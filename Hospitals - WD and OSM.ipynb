{
 "cells": [
  {
   "cell_type": "markdown",
   "id": "17bc7232",
   "metadata": {},
   "source": [
    "# An attempt to reconcile data on Hospitals in Scotland from Wikidata and OpenStreetMap (and WIkipedia?) "
   ]
  },
  {
   "cell_type": "markdown",
   "id": "934a694e",
   "metadata": {},
   "source": [
    "This started with two queries on the databases at WikiData and OpenStreetMap:\n",
    "    \n",
    "https://w.wiki/5yQy\n",
    "and \n",
    "https://overpass-turbo.eu/s/1nQg \n"
   ]
  },
  {
   "cell_type": "code",
   "execution_count": 141,
   "id": "70353458",
   "metadata": {},
   "outputs": [],
   "source": [
    "import json\n",
    "import csv\n",
    "\n",
    "osm_names_list = []\n",
    "osm_wd_list = []"
   ]
  },
  {
   "cell_type": "markdown",
   "id": "17f86580",
   "metadata": {},
   "source": [
    "## Import OSM query results\n",
    "\n",
    "I'm using the results of the OSM query here, and the WD one below. "
   ]
  },
  {
   "cell_type": "code",
   "execution_count": 142,
   "id": "4d918942",
   "metadata": {},
   "outputs": [],
   "source": [
    "with open('export-4.geojson', 'r') as OSM_file:\n",
    "    osm_data = json.load(OSM_file)\n",
    "    \n"
   ]
  },
  {
   "cell_type": "code",
   "execution_count": 143,
   "id": "f2183b92",
   "metadata": {},
   "outputs": [
    {
     "name": "stdout",
     "output_type": "stream",
     "text": [
      "way/359604291\n",
      "NO NAME\n",
      "************************\n",
      "way/712499976\n",
      "NO NAME\n",
      "************************\n",
      "way/813124398\n",
      "NO NAME\n",
      "************************\n",
      "way/531677885\n",
      "NO NAME\n",
      "************************\n"
     ]
    }
   ],
   "source": [
    "f_data = osm_data['features']\n",
    "for feature in f_data:\n",
    "    \n",
    "    if 'name'in feature['properties'].keys(): # NB four items found without names in OSM\n",
    "        osm_names_list.append(feature['properties']['name'])\n",
    "    else:\n",
    "        print(feature['properties']['@id'])\n",
    "        print (\"NO NAME\")\n",
    "        print (\"************************\")\n",
    "    if 'wikidata' in feature['properties'].keys():\n",
    "        #print(feature['properties']['wikidata'])\n",
    "        osm_wd_list.append(feature['properties']['wikidata'])\n",
    "    \n",
    "    \n",
    "#better to use sets\n",
    "osm_names_set=set(osm_names_list)\n",
    "osm_wd_set = set((osm_wd_list))"
   ]
  },
  {
   "cell_type": "code",
   "execution_count": 144,
   "id": "2bd44add",
   "metadata": {},
   "outputs": [
    {
     "data": {
      "text/plain": [
       "'\\nprint(osm_names_list)\\nprint(osm_wd_list)\\nprint(len(osm_wd_list))\\n'"
      ]
     },
     "execution_count": 144,
     "metadata": {},
     "output_type": "execute_result"
    }
   ],
   "source": [
    "'''\n",
    "print(osm_names_list)\n",
    "print(osm_wd_list)\n",
    "print(len(osm_wd_list))\n",
    "'''"
   ]
  },
  {
   "cell_type": "markdown",
   "id": "30fd8322",
   "metadata": {},
   "source": [
    "## Next get WD data from query download (for now)"
   ]
  },
  {
   "cell_type": "code",
   "execution_count": 145,
   "id": "76310171",
   "metadata": {
    "scrolled": false
   },
   "outputs": [],
   "source": [
    "wd_names_set = set()\n",
    "wd_qid_set = set()\n",
    "# Read CSV file\n",
    "with open(\"query-53.csv\") as fp:\n",
    "    reader = csv.reader(fp, delimiter=\",\", quotechar='\"')\n",
    "    # next(reader, None)  # skip the headers\n",
    "    data_read = [row for row in reader]\n",
    "\n",
    "\n",
    "for r in data_read:\n",
    "    if len(r[0].split(\"/\")) > 1: #skip first line\n",
    "        wd_qid_set.add( r[0].split(\"/\")[4]) #add QIDs to our WD set\n",
    "        wd_names_set.add (r[1]) # add names to our WD set\n",
    "        \n",
    "   "
   ]
  },
  {
   "cell_type": "markdown",
   "id": "b51fc7e3",
   "metadata": {},
   "source": [
    "## Compare sets"
   ]
  },
  {
   "cell_type": "code",
   "execution_count": 146,
   "id": "bae6ff13",
   "metadata": {},
   "outputs": [
    {
     "name": "stdout",
     "output_type": "stream",
     "text": [
      "QIDs in both WD and OSM\n",
      "{'Q7270437', 'Q84598648', 'Q17151793', 'Q5639556', 'Q7038594', 'Q6060585', 'Q18161534', 'Q65076847', 'Q85200775', 'Q5560775', 'Q28406015', 'Q4810902', 'Q7926795', 'Q85011470', 'Q20027879', 'Q20570400', 'Q4784932', 'Q5313810', 'Q7593593', 'Q6410450', 'Q5519174', 'Q25858870', 'Q87677556', 'Q5327766', 'Q48814905', 'Q4882380', 'Q5069009', 'Q7620842', 'Q5304529', 'Q6037160', 'Q7894766', 'Q14943178', 'Q5050039', 'Q7856254', 'Q6060060', 'Q6520385', 'Q85815482', 'Q5179425', 'Q5472596', 'Q7987984', 'Q5579596', 'Q6301869', 'Q65065866', 'Q7283830', 'Q42887887', 'Q85785377', 'Q4850756', 'Q6900917', 'Q85797953', 'Q6724535', 'Q7808921', 'Q84187065', 'Q4944702', 'Q16852446', 'Q7373656', 'Q7374066', 'Q84599467', 'Q7855948', 'Q7878130', 'Q30279784', 'Q7440347', 'Q65060169', 'Q7592438', 'Q18161222', 'Q7926784', 'Q7244518', 'Q85011465', 'Q5566797', 'Q7617773', 'Q65065133', 'Q7987867', 'Q3822734', 'Q5566905', 'Q85011468', 'Q54869681', 'Q85011483', 'Q85011480', 'Q5524427', 'Q7170888', 'Q7877761', 'Q8032615', 'Q5524426', 'Q6842578', 'Q42887894', 'Q7590702', 'Q8027577', 'Q85011474', 'Q7374303', 'Q85757894', 'Q85754295', 'Q42887891', 'Q5364707', 'Q7608958', 'Q27990508', 'Q5017867', 'Q5567918', 'Q4831679', 'Q20027890', 'Q65065832', 'Q48814992', 'Q7374135', 'Q85794089', 'Q6501856', 'Q14956755', 'Q5458569', 'Q48814832', 'Q7587351'}\n",
      "********************************\n",
      "\n",
      "QIDs in OSM but not in WD\n",
      "{'Q15261984', 'Q85798076', 'Q85011500', 'Q7372397', 'Q27167198', 'Q85011543', 'Q27167225', 'Q85011522', 'Q85011478', 'Q85011514', 'Q85011535', 'Q85011493', 'Q85011541', 'Q7603368', 'Q19586076', 'Q85011486', 'Q85011516', 'Q17793635', 'Q7622034', 'Q85011538'}\n",
      "********************************\n",
      "\n",
      "QIDs in WD but not in OSM\n",
      "{'Q65065028', 'Q87677544', 'Q14956916', 'Q17852257', 'Q17568705', 'Q85763640', 'Q87677528', 'Q68375069', 'Q42887889', 'Q14956844', 'Q20714039', 'Q84187031', 'Q68376689', 'Q87677539', 'Q65060262', 'Q85785321', 'Q6550307', 'Q85768789', 'Q65065492', 'Q87677525', 'Q16895237', 'Q1627581', 'Q23073290', 'Q89209802', 'Q86753331', 'Q21997640', 'Q68378032', 'Q55642707', 'Q21036442', 'Q17834854', 'Q64941540', 'Q7381586', 'Q8032781', 'Q21997534', 'Q6407983', 'Q86753167', 'Q87677563', 'Q65065179', 'Q42887895', 'Q14956913', 'Q6792229', 'Q16893457', 'Q87677537', 'Q30280029', 'Q17776198', 'Q86753243', 'Q87677566', 'Q87677533', 'Q85813097', 'Q87677551', 'Q65065862', 'Q17777701', 'Q7373568', 'Q17509484', 'Q7569946', 'Q30280716', 'Q65065805', 'Q6781184', 'Q5314831', 'Q16994315', 'Q17814970', 'Q14956751', 'Q1138736', 'Q104817505', 'Q85786946', 'Q87677559', 'Q85776031', 'Q30269833', 'Q87677523', 'Q14956915', 'Q7581774', 'Q4855593', 'Q86753296', 'Q42887892', 'Q16823331', 'Q8033880', 'Q15273544', 'Q84600036', 'Q30254239', 'Q103426265', 'Q4979590', 'Q7374743', 'Q5173200', 'Q64554249', 'Q7690326', 'Q60135081', 'Q65089641', 'Q14956914', 'Q5028091', 'Q48813888', 'Q55606703', 'Q85803073', 'Q84599454', 'Q87677547', 'Q67913519', 'Q61439269', 'Q83275797', 'Q30280697', 'Q6509485', 'Q4666949', 'Q7754584', 'Q4666975', 'Q16157628', 'Q65089642', 'Q6415749', 'Q5566906', 'Q104179199', 'Q5566956'}\n",
      "********************************\n",
      "\n"
     ]
    }
   ],
   "source": [
    "print(\"QIDs in both WD and OSM\")\n",
    "\n",
    "print (osm_wd_set.intersection(wd_qid_set))\n",
    "print(\"********************************\")\n",
    "print()\n",
    "print(\"QIDs in OSM but not in WD\")\n",
    "print(osm_wd_set.difference(wd_qid_set))\n",
    "print(\"********************************\")\n",
    "print()\n",
    "print(\"QIDs in WD but not in OSM\")\n",
    "print(wd_qid_set.difference(osm_wd_set))\n",
    "print(\"********************************\")\n",
    "print()"
   ]
  },
  {
   "cell_type": "code",
   "execution_count": 147,
   "id": "f3d87de6",
   "metadata": {
    "scrolled": true
   },
   "outputs": [
    {
     "name": "stdout",
     "output_type": "stream",
     "text": [
      "Names in both WD and OSM\n",
      "{'Glasgow Royal Infirmary', 'Gartnavel Royal Hospital', 'New Victoria Hospital', 'Lawson Memorial Hospital', 'Kello Hospital', 'Stonehouse Hospital', 'Seafield Hospital', 'Nairn Town and County Hospital', 'University Hospital Wishaw', \"Ellen's Glen House\", 'Biggart Hospital', 'Glenrothes Hospital', 'Girvan Community Hospital', 'Inverclyde Royal Hospital', 'Gartnavel General Hospital', 'East Ayrshire Community Hospital', 'Turner Memorial Hospital', 'Forth Valley Royal Hospital', 'Kincardine Community Hospital', 'Lightburn Hospital', 'Royal Edinburgh Hospital', 'Annan Hospital', 'Stracathro Hospital', 'Perth Royal Infirmary', 'Pitlochry Community Hospital', 'Inverurie Hospital', 'Edington Cottage Hospital', 'Royal Cornhill Hospital', 'Ugie Hospital', 'Wester Moffat Hospital', 'Leverndale Hospital', 'Udston Hospital', 'Campbeltown Hospital', 'Migdale Hospital', 'Fraserburgh Hospital', 'City Hospital', 'Lauriston Building', 'Ross Memorial Hospital', 'Moffat Hospital', 'Belhaven Hospital', 'Hairmyres Hospital', 'Leith Community Treatment Centre', 'St Andrews Community Hospital', 'Castle Craig Hospital', 'Astley Ainslie Hospital', 'Cowal Community Hospital', 'Borders General Hospital', 'Galloway Community Hospital', 'Stephen Cottage Hospital', 'Coathill Hospital', \"Dr Gray's Hospital\", 'Stobhill Hospital', 'Midlothian Community Hospital', 'Murray Royal Hospital', 'Princess Alexandra Eye Pavilion', 'Dumbarton Joint Hospital', 'Golden Jubilee National Hospital', 'Cleland Hospital', 'Caithness General Hospital', 'Dykebar Hospital', \"Glen O'Dee Hospital\", 'Insch War Memorial Hospital', \"Bo'ness Hospital\", 'Kirklands Hospital', 'Mull and Iona Community Hospital', 'Dumfries and Galloway Royal Infirmary', 'Lorn and Islands Hospital', 'Cameron Hospital', 'Falkirk Community Hospital', 'Blairgowrie Community Hospital', 'Aberdeen Community Health and Care Village', 'Turriff Cottage Hospital', 'Ayrshire Central Hospital', 'Arran War Memorial Hospital', 'Queen Margaret Hospital', 'Ninewells Hospital', 'Chalmers Hospital', 'Woodend Hospital', 'University Hospital Crosshouse', 'Raigmore Hospital', 'Royal Victoria Hospital', 'Belford Hospital', 'Arbroath Infirmary', 'Gilbert Bain Hospital', 'Peterhead Community Hospital'}\n",
      "********************************\n",
      "\n",
      "Names in OSM but not in WD\n",
      "{'West Glasgow Ambulatory Care Hospital', 'New Craigs Hospital', 'Wick Town And County Hospital', 'Ospadal nan Eilean', \"St Margaret's Hospital\", 'The Queen Elizabeth University Hospital Campus', 'Victoria Hospital Annex', 'Roxburgh House', 'The Lady Margaret Hospital', 'Airbles Road Centre', 'Ayrshire Hospice', 'East Lothian Community Hospital', 'Clackmannanshire Community Healthcare Centre', 'Chalmers Centre', 'Lady Home Cottage Hospital', 'University Hospital Monklands', 'Portree Community Hospital', 'Lynebank Hospital', 'Thornhill Hospital', 'Randolph Wemyss Memorial Hospital', 'Whitehills Health & Community Care Centre', 'The State Hospital', 'Doctor Mackinnon Memorial Hospital', 'Highland Hospice', 'Islay Hospital', 'Rowanbank Clinic', 'Clerkseat Building', 'Newton Stuart Hospital', 'Hay Lodge Hospital', 'The Balfour', 'Lockhart Hospital', \"Saint John's Hospital\", 'Kelso Hospital (Inch Hosp.)', 'Royal Hospital for Children and Young People', 'Tippethill Hospital', 'Ward 4B, Leverndale Hospital', 'Kircudbright Health Centre', 'Strathcarron Hospice', \"Whyteman's Brae Hospital\", 'Hawick Community Hospital', 'Spire Murrayfield Hospital', 'Knoll Community Hospital', 'Shettleston Day Hospital & Parkview Resource Centre', 'Stirling Health and Care Village', 'Cree Day Hospital', 'Royal Infirmary of Edinburgh (Little France)', 'Jubilee Hospital', 'Fleming Hospital', 'Thomas Hope Hospital', \"St Michael's Hospital\", 'Badenoch and Strathspey Community Hospital', 'Ross Hall Hospital', 'Vale of Leven District General Hospital', 'Ayr & Ailsa Hospitals', 'Invergordon County Community Hospital', 'Victoria Hospital', 'Lochmaben Hospital', 'Royal Alexandra Hospital', 'Kings Cross Hospital', 'Fernbrae Hospital', 'Ospadal Uibhist agus Bharraigh', 'Nithbank Hospital', 'The Prince & Princess of Wales Hospice', 'Mid Argyll Community Hospital and Integrated Care Centre', 'Victoria Memorial Cottage Hospital', 'Kingsway Care Centre', 'Ospadal Naomh Brianain', 'Aboyne Hospital and Health Centre', 'St Vincents', 'Aberfeldy Cottage Hospital', 'Foresterhill Health Campus', 'Findlay House', 'Woodburn House NHS', 'Western General Hospital (Edinburgh)', 'Beckford Lodge', 'Royal Northern Infirmary', 'The Argyll and Bute Hospital', 'BMI Kings Park Hospital', 'Glasgow Dental Hospital', 'St. Ellen’s Private Hospital', 'Stratheden Hospital', 'Bellsdyke Hospital', 'Creiff Community Hospital', 'Dunbar Hospital', 'Midpark Hospital', 'Coylton Health Clinic', 'Shawfair Park Hospital', 'Nuffield Health Glasgow Hospital', 'Victoria Infirmary', 'Castle Douglas Hospital', 'Adamson Hospital', 'Dee View Court'}\n",
      "********************************\n",
      "\n",
      "Names in WD but not in OSM\n",
      "{'1a Drumoyne Drive, Elder Cottage Hospital', 'Aboyne Hospital', 'William Simpson Asylum', 'Crichton Royal Hospital', 'Maud Hospital', \"Bishop Dunbar's Hospital\", \"St. Michael's Hospital, Linlithgow\", 'Lanark, Lockhart Drive, William Smellie Memorial Hospital', 'Royal Victoria Hospital, Dundee', 'Mid Argyll Community Hospital', 'Glasgow Royal Maternity Hospital', 'Birkwood Castle', 'Kirklandside Hospital', 'Edinburgh Dental Institute', 'Aberdeen Maternity Hospital', 'The Oaks, Elgin', 'University Hospital Ayr', 'Vale of Leven Hospital', 'Dingleton Hospital', 'Drumchapel Hospital', 'Erskine', 'Tippethill House Hospital', 'Lady Home Hospital', 'Erskine House', 'Argyll and Bute Hospital', 'House Of Daviot Hospital', 'Montfield Hospital', 'Deaconess Hospital', 'Ruchill Hospital', \"King's Cross Hospital\", 'Victoria Hospital, Rothesay', 'Maryfield Hospital', 'Craig Dunain Hospital', 'Glasgow Lock Hospital', 'Hospital of St John the Baptist, Arbroath', 'Western Isles Hospital', 'Crieff Community Hospital', 'Russell Institute', 'Kingseat Hospital', 'Brooksby House Hospital', 'Fleming Cottage Hospital', 'Kilsyth Victoria Cottage Hospital', 'Banff, Ladysbridge Hospital', 'Southern General Hospital', 'Cowdray Medical Pavilion', \"Royal Aberdeen Children's Hospital\", 'Linburn Centre', 'Broomhill Hospital', 'Leith Hospital', 'Bruntsfield Hospital', 'Portree Hospital', 'Liberton Hospital', 'Carseview Centre', 'Royal Dundee Liff Hospital', 'Eastern General Hospital', 'Lady Margaret Hospital', 'Wick Town and County Hospital', 'Western General Hospital', 'Riccartsbar Hospital', 'Queen Elizabeth University Hospital', 'Edinburgh City Hospital', 'Western Infirmary', 'Rosslynlee Hospital', 'Canniesburn Hospital', 'Bridge of Earn Hospital', 'Bangour General Hospital', 'Stirling District Lunatic Asylum', 'Meadows Dental Clinic', 'Spynie Hospital', 'Balfour Hospital', 'Greenock Royal Infirmary', 'Hawkhead Hospital', \"Mitchell's Hospital Old Aberdeen\", 'Broadfield Hospital', 'Bilbohall Hospital', 'Woolmanhill Hospital', 'Royal Samaritan Hospital', 'Dunbar Hospital, Thurso', 'Royal Public Dispensary of Edinburgh', 'Royal Infirmary of Edinburgh', 'Royal Hospital for Sick Children, Glasgow', 'Woodland View', 'Mackinnon Memorial Hospital', 'Bangour Village Hospital', 'Hawick, Hawick Cottage Hospital And Lamp Standard', 'Glasgow Victoria Infirmary', 'Victoria Hospital, Kirkcaldy', 'Aberdeen Trades Hospitals', 'Uist and Barra Hospital', 'Dundee Dental Hospital', \"St Brendan's Hospital, Castlebay\", 'Woodcot Hospital', 'Glasgow Dental Hospital and School', 'Whitehills Hospital', 'Coldstream Cottage Hospital', 'Campbell Hospital, Portsoy', 'Leanchoil Hospital', 'Monklands Hospital', 'Kilmarnock Infirmary', 'Jubilee Hospital, Huntly', 'Hopetoun House', \"St Vincent's Hospital, Kingussie\", 'Ian Charles Community Hospital', \"Tayside Children's Hospital\", '253 Duke Street, Eastern District Hospital', 'Ashludie Hospital', 'Victoria Infirmary, Helensburgh', 'Corstorphine Hospital', \"St Margaret's Hospital, Auchterarder\", 'Glasgow Homeopathic Hospital', \"Kincardine O'Neil Hospital\", 'Woodilee Hospital', 'Princess Margaret Rose Orthopaedic Hospital', 'County Community Hospital, Invergordon', 'Royal Scottish National Hospital', 'NHS Louisa Jordan', 'Dundee Royal Infirmary', 'Ballochmyle Hospital', 'Bellshill Maternity Hospital', 'Ailsa Hospital', \"St John's Hospital, Livingston\", 'Killearn Hospital', 'Aberdeen Royal Infirmary', 'Craiglockhart Hydropathic', 'Roodlands General Hospital', 'Law Hospital', 'Belvidere Hospital', 'Royal Alexandra Hospital, Paisley', 'Forfar Infirmary'}\n",
      "********************************\n",
      "\n"
     ]
    }
   ],
   "source": [
    "print(\"Names in both WD and OSM\")\n",
    "\n",
    "print (osm_names_set.intersection(wd_names_set))\n",
    "print(\"********************************\")\n",
    "print()\n",
    "print(\"Names in OSM but not in WD\")\n",
    "print(osm_names_set.difference(wd_names_set))\n",
    "print(\"********************************\")\n",
    "print()\n",
    "print(\"Names in WD but not in OSM\")\n",
    "print(wd_names_set.difference(osm_names_set))\n",
    "print(\"********************************\")\n",
    "print()"
   ]
  },
  {
   "cell_type": "markdown",
   "id": "dde485da",
   "metadata": {},
   "source": [
    "## Issues \n",
    "\n",
    "So, it's clear that there are issues in both sets of data. \n",
    "\n",
    "Apart from the four nameless things identified as hospitals in OSM (see above) there are many hospitals in WIkidata that are not in OSM, and it appears quite a few the other way round. \n",
    "\n",
    "Quite a bit of that may come down to hospital buildings retaining their name in WIKIDATA as that is how Canmore references them. Perhaps these should be recategorised as Former Hospital rather than Hospital.\n",
    "\n",
    "This [Wikipedia article](https://en.wikipedia.org/wiki/Category:Defunct_hospitals_in_Scotland) may help along with [this one](https://en.wikipedia.org/wiki/Category:Former_psychiatric_hospitals_in_Scotland) but it suggests a long manual process. \n"
   ]
  },
  {
   "cell_type": "markdown",
   "id": "f6b25f73",
   "metadata": {},
   "source": [
    "Jack Gilmore has suggested using sources such as [this one](https://www.nhsinform.scot/scotlands-service-directory)"
   ]
  },
  {
   "cell_type": "markdown",
   "id": "f2c40942",
   "metadata": {},
   "source": [
    "## Update\n",
    "\n",
    "Wikipedia has a [list page on hospitals in Scotland](https://en.wikipedia.org/wiki/List_of_hospitals_in_Scotland) which might help but it has a note (as of 2008) saying that it is incomplete. \n",
    "\n",
    "Maybe we have the opportunity here to improve on existing sources _and_ to create a downloadable data set that others can use with some confidence! "
   ]
  },
  {
   "cell_type": "code",
   "execution_count": null,
   "id": "e5f1ed04",
   "metadata": {},
   "outputs": [],
   "source": []
  }
 ],
 "metadata": {
  "kernelspec": {
   "display_name": "Python 3",
   "language": "python",
   "name": "python3"
  },
  "language_info": {
   "codemirror_mode": {
    "name": "ipython",
    "version": 3
   },
   "file_extension": ".py",
   "mimetype": "text/x-python",
   "name": "python",
   "nbconvert_exporter": "python",
   "pygments_lexer": "ipython3",
   "version": "3.7.4"
  }
 },
 "nbformat": 4,
 "nbformat_minor": 5
}
